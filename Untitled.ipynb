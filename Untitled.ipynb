{
 "cells": [
  {
   "cell_type": "code",
   "execution_count": 1,
   "id": "2cd3aeb0",
   "metadata": {},
   "outputs": [
    {
     "name": "stdout",
     "output_type": "stream",
     "text": [
      "\n",
      "Twinkle, twinkle, little star, \n",
      "         How I wonder what you are! \n",
      "                Up above the world so high, \n",
      "                Like a diamond in the sky. \n",
      " Twinkle, twinkle, little star, \n",
      "          How I wonder what you are \n",
      "\n"
     ]
    }
   ],
   "source": [
    "'''1. Write a Python program to print the following string in a specific format (see the \n",
    "output). \n",
    "Twinkle, twinkle, little star, \n",
    " \n",
    "How I wonder what you are! \n",
    " \n",
    "Up above the world so high, \n",
    "Like a diamond in the sky. \n",
    " \n",
    "Twinkle, twinkle, little star, \n",
    " \n",
    "How I wonder what you are '''\n",
    "print('''\n",
    "Twinkle, twinkle, little star, \n",
    "         How I wonder what you are! \n",
    "                Up above the world so high, \n",
    "                Like a diamond in the sky. \n",
    " Twinkle, twinkle, little star, \n",
    "          How I wonder what you are \n",
    "''')"
   ]
  },
  {
   "cell_type": "code",
   "execution_count": 2,
   "id": "ea1677b1",
   "metadata": {},
   "outputs": [
    {
     "name": "stdout",
     "output_type": "stream",
     "text": [
      "3.8.8 (default, Apr 13 2021, 15:08:03) [MSC v.1916 64 bit (AMD64)]\n"
     ]
    }
   ],
   "source": [
    "#Write a Python program to get the Python version you are using \n",
    "import sys\n",
    "print(sys.version)"
   ]
  },
  {
   "cell_type": "code",
   "execution_count": 3,
   "id": "2cf2c276",
   "metadata": {},
   "outputs": [
    {
     "name": "stdout",
     "output_type": "stream",
     "text": [
      "2021-10-22\n"
     ]
    }
   ],
   "source": [
    "#Write a Python program to display the current date and time. \n",
    "from datetime import date\n",
    "print(date.today())"
   ]
  },
  {
   "cell_type": "code",
   "execution_count": 4,
   "id": "241b0c09",
   "metadata": {},
   "outputs": [
    {
     "name": "stdout",
     "output_type": "stream",
     "text": [
      "Enter the radius of circle: 25.5\n",
      "Area of circle:  2.3104908296391588e+36\n"
     ]
    }
   ],
   "source": [
    "#Write a Python program which accepts the radius of a circle from the user and compute the area. \n",
    "radius = float(input(\"Enter the radius of circle: \"))\n",
    "Area = 3.14*radius**radius\n",
    "print(\"Area of circle: \",Area)"
   ]
  },
  {
   "cell_type": "code",
   "execution_count": 6,
   "id": "7554fd72",
   "metadata": {},
   "outputs": [
    {
     "name": "stdout",
     "output_type": "stream",
     "text": [
      "Enter your first name: Shaheryar\n",
      "Enter your last name: Ali\n",
      "ilA rayrehahS\n"
     ]
    }
   ],
   "source": [
    "#Write a Python program which accepts the user's first and last name and print them in reverse order with a space between them.\n",
    "first_name = input(\"Enter your first name: \")\n",
    "last_name  = input(\"Enter your last name: \")\n",
    "in_reverse = first_name+\" \"+last_name\n",
    "print(in_reverse[::-1])"
   ]
  },
  {
   "cell_type": "code",
   "execution_count": null,
   "id": "01fdc154",
   "metadata": {},
   "outputs": [],
   "source": [
    "#Write a python program which takes two inputs from user and print them addition "
   ]
  },
  {
   "cell_type": "code",
   "execution_count": null,
   "id": "f808b7ee",
   "metadata": {},
   "outputs": [],
   "source": [
    "#Write a program which takes 5 inputs from user for different subject’s marks, total it and generate mark sheet using grades ? "
   ]
  },
  {
   "cell_type": "code",
   "execution_count": null,
   "id": "deeea1be",
   "metadata": {},
   "outputs": [],
   "source": [
    "#Write a program which take input from user and identify that the given number is even or odd? "
   ]
  },
  {
   "cell_type": "code",
   "execution_count": null,
   "id": "cff1aeb7",
   "metadata": {},
   "outputs": [],
   "source": [
    "#Write a program which print the length of the list? "
   ]
  },
  {
   "cell_type": "code",
   "execution_count": null,
   "id": "5744c687",
   "metadata": {},
   "outputs": [],
   "source": [
    "#Write a Python program to sum all the numeric items in a list? "
   ]
  },
  {
   "cell_type": "code",
   "execution_count": null,
   "id": "96d09e1b",
   "metadata": {},
   "outputs": [],
   "source": [
    "#Write a Python program to get the largest number from a numeric list. "
   ]
  },
  {
   "cell_type": "code",
   "execution_count": null,
   "id": "15d52470",
   "metadata": {},
   "outputs": [],
   "source": [
    "'''Take a list, say for example this one:  \n",
    "a = [1, 1, 2, 3, 5, 8, 13, 21, 34, 55, 89] \n",
    "Write a program that prints out all the elements of the list that are less than 5.'''\n"
   ]
  }
 ],
 "metadata": {
  "kernelspec": {
   "display_name": "Python 3 (ipykernel)",
   "language": "python",
   "name": "python3"
  },
  "language_info": {
   "codemirror_mode": {
    "name": "ipython",
    "version": 3
   },
   "file_extension": ".py",
   "mimetype": "text/x-python",
   "name": "python",
   "nbconvert_exporter": "python",
   "pygments_lexer": "ipython3",
   "version": "3.8.8"
  }
 },
 "nbformat": 4,
 "nbformat_minor": 5
}
