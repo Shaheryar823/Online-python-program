{
 "cells": [
  {
   "cell_type": "code",
   "execution_count": 23,
   "id": "252e40a2",
   "metadata": {},
   "outputs": [
    {
     "name": "stdout",
     "output_type": "stream",
     "text": [
      "\n",
      "Twinkle, twinkle, little star, \n",
      "         How I wonder what you are! \n",
      "                Up above the world so high, \n",
      "                Like a diamond in the sky. \n",
      " Twinkle, twinkle, little star, \n",
      "          How I wonder what you are \n",
      "\n"
     ]
    }
   ],
   "source": [
    "'''1. Write a Python program to print the following string in a specific format (see the \n",
    "output). \n",
    "Twinkle, twinkle, little star, \n",
    " \n",
    "How I wonder what you are! \n",
    " \n",
    "Up above the world so high, \n",
    "Like a diamond in the sky. \n",
    " \n",
    "Twinkle, twinkle, little star, \n",
    " \n",
    "How I wonder what you are '''\n",
    "print('''\n",
    "Twinkle, twinkle, little star, \n",
    "         How I wonder what you are! \n",
    "                Up above the world so high, \n",
    "                Like a diamond in the sky. \n",
    " Twinkle, twinkle, little star, \n",
    "          How I wonder what you are \n",
    "''')"
   ]
  },
  {
   "cell_type": "code",
   "execution_count": 24,
   "id": "dca9b1dd",
   "metadata": {},
   "outputs": [
    {
     "name": "stdout",
     "output_type": "stream",
     "text": [
      "3.8.8 (default, Apr 13 2021, 15:08:03) [MSC v.1916 64 bit (AMD64)]\n"
     ]
    }
   ],
   "source": [
    "#Write a Python program to get the Python version you are using \n",
    "import sys\n",
    "print(sys.version)"
   ]
  },
  {
   "cell_type": "code",
   "execution_count": 25,
   "id": "030f1614",
   "metadata": {},
   "outputs": [
    {
     "name": "stdout",
     "output_type": "stream",
     "text": [
      "2021-10-22\n"
     ]
    }
   ],
   "source": [
    "#Write a Python program to display the current date and time. \n",
    "from datetime import date\n",
    "print(date.today())"
   ]
  },
  {
   "cell_type": "code",
   "execution_count": 26,
   "id": "43430c14",
   "metadata": {},
   "outputs": [
    {
     "name": "stdout",
     "output_type": "stream",
     "text": [
      "Enter the radius of circle: 45\n",
      "Area of circle:  7.789198435772113e+74\n"
     ]
    }
   ],
   "source": [
    "#Write a Python program which accepts the radius of a circle from the user and compute the area. \n",
    "radius = float(input(\"Enter the radius of circle: \"))\n",
    "Area = 3.14*radius**radius\n",
    "print(\"Area of circle: \",Area)"
   ]
  },
  {
   "cell_type": "code",
   "execution_count": 27,
   "id": "6a4a4e79",
   "metadata": {},
   "outputs": [
    {
     "name": "stdout",
     "output_type": "stream",
     "text": [
      "Enter your first name: shaheryar\n",
      "Enter your last name: ali\n",
      "ila rayrehahs\n"
     ]
    }
   ],
   "source": [
    "#Write a Python program which accepts the user's first and last name and print them in reverse order with a space between them.\n",
    "first_name = input(\"Enter your first name: \")\n",
    "last_name  = input(\"Enter your last name: \")\n",
    "in_reverse = first_name+\" \"+last_name\n",
    "print(in_reverse[::-1])"
   ]
  },
  {
   "cell_type": "code",
   "execution_count": 28,
   "id": "fd2d05e2",
   "metadata": {},
   "outputs": [
    {
     "name": "stdout",
     "output_type": "stream",
     "text": [
      "3\n",
      "3\n",
      "33\n"
     ]
    }
   ],
   "source": [
    "#Write a python program which takes two inputs from user and print them addition \n",
    "a = input()\n",
    "b = input()\n",
    "print(a+b)"
   ]
  },
  {
   "cell_type": "code",
   "execution_count": 29,
   "id": "d7977ae0",
   "metadata": {},
   "outputs": [
    {
     "name": "stdout",
     "output_type": "stream",
     "text": [
      "Enter the number in subject 1: 22\n",
      "Enter the number in subject 2: 22\n",
      "Enter the number in subject 3: 22\n",
      "Enter the number in subject 4: 22\n",
      "Enter the number in subject 5: 22\n"
     ]
    }
   ],
   "source": [
    "#Write a program which takes 5 inputs from user for different subject’s marks, total it and generate mark sheet using grades ?\n",
    "sub1 = float(input(\"Enter the number in subject 1: \"))\n",
    "sub2 = float(input(\"Enter the number in subject 2: \"))\n",
    "sub3 = float(input(\"Enter the number in subject 3: \"))\n",
    "sub4 = float(input(\"Enter the number in subject 4: \"))\n",
    "sub5 = float(input(\"Enter the number in subject 5: \"))\n"
   ]
  },
  {
   "cell_type": "code",
   "execution_count": 30,
   "id": "7c9f957d",
   "metadata": {},
   "outputs": [
    {
     "name": "stdout",
     "output_type": "stream",
     "text": [
      "Enter the number: 3\n",
      "odd\n"
     ]
    }
   ],
   "source": [
    "#Write a program which take input from user and identify that the given number is even or odd? \n",
    "num = int(input(\"Enter the number: \"))\n",
    "if num%2==0:\n",
    "    print(\"even\")\n",
    "else:\n",
    "    print(\"odd\")"
   ]
  },
  {
   "cell_type": "code",
   "execution_count": 31,
   "id": "c7971ef0",
   "metadata": {},
   "outputs": [
    {
     "name": "stdout",
     "output_type": "stream",
     "text": [
      "6\n"
     ]
    }
   ],
   "source": [
    "#Write a program which print the length of the list? \n",
    "print(len([1,2,3,4,3,3]))"
   ]
  },
  {
   "cell_type": "code",
   "execution_count": 32,
   "id": "5c44d875",
   "metadata": {},
   "outputs": [
    {
     "name": "stdout",
     "output_type": "stream",
     "text": [
      "16\n"
     ]
    }
   ],
   "source": [
    "#Write a Python program to sum all the numeric items in a list? \n",
    "s=0\n",
    "a = [1,2,3,4,3,3]\n",
    "for i in a:\n",
    "    s+=i\n",
    "print(s)"
   ]
  },
  {
   "cell_type": "code",
   "execution_count": 33,
   "id": "3a957075",
   "metadata": {},
   "outputs": [
    {
     "name": "stdout",
     "output_type": "stream",
     "text": [
      "3374\n"
     ]
    }
   ],
   "source": [
    "#Write a Python program to get the largest number from a numeric list.\n",
    "a = [1,2,3,33,3374,3,443]\n",
    "largest = a[0]\n",
    "for i in a:\n",
    "    if i > largest:\n",
    "        largest = i\n",
    "print(largest)"
   ]
  },
  {
   "cell_type": "code",
   "execution_count": 34,
   "id": "357deacd",
   "metadata": {},
   "outputs": [
    {
     "name": "stdout",
     "output_type": "stream",
     "text": [
      "[1, 2, 3, 3]\n"
     ]
    }
   ],
   "source": [
    "'''Take a list, say for example this one:  \n",
    "a = [1, 1, 2, 3, 5, 8, 13, 21, 34, 55, 89] \n",
    "Write a program that prints out all the elements of the list that are less than 5.'''\n",
    "a = [1,2,3,33,3374,3,443]\n",
    "small_then_5 = []\n",
    "for i in a:\n",
    "    if i < 5:\n",
    "        small_then_5.append(i)\n",
    "print(small_then_5)"
   ]
  },
  {
   "cell_type": "code",
   "execution_count": null,
   "id": "596e8817",
   "metadata": {},
   "outputs": [],
   "source": []
  }
 ],
 "metadata": {
  "kernelspec": {
   "display_name": "Python 3 (ipykernel)",
   "language": "python",
   "name": "python3"
  },
  "language_info": {
   "codemirror_mode": {
    "name": "ipython",
    "version": 3
   },
   "file_extension": ".py",
   "mimetype": "text/x-python",
   "name": "python",
   "nbconvert_exporter": "python",
   "pygments_lexer": "ipython3",
   "version": "3.8.8"
  }
 },
 "nbformat": 4,
 "nbformat_minor": 5
}
